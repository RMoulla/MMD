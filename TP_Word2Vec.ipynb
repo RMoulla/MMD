{
  "nbformat": 4,
  "nbformat_minor": 0,
  "metadata": {
    "colab": {
      "provenance": [],
      "gpuType": "T4",
      "authorship_tag": "ABX9TyMgE17jiSkqpzC4Xk+LaWyW",
      "include_colab_link": true
    },
    "kernelspec": {
      "name": "python3",
      "display_name": "Python 3"
    },
    "language_info": {
      "name": "python"
    },
    "accelerator": "GPU"
  },
  "cells": [
    {
      "cell_type": "markdown",
      "metadata": {
        "id": "view-in-github",
        "colab_type": "text"
      },
      "source": [
        "<a href=\"https://colab.research.google.com/github/RMoulla/MMD/blob/main/TP_Word2Vec.ipynb\" target=\"_parent\"><img src=\"https://colab.research.google.com/assets/colab-badge.svg\" alt=\"Open In Colab\"/></a>"
      ]
    },
    {
      "cell_type": "markdown",
      "source": [
        "# **Exploration et Entraînement d'Embeddings Word2Vec avec Gensim**\n",
        "Dans ce TP, nous allons explorer les embeddings de mots en deux étapes. Dans un premier temps, nous utiliserons un modèle Word2Vec pré-entraîné afin de comprendre comment les relations sémantiques entre les mots sont capturées. Nous analyserons des similarités, des analogies, et visualiserons ces relations dans l'espace vectoriel. Ensuite, dans la seconde partie, nous allons entraîner notre propre modèle Word2Vec sur le corpus Reuters, un ensemble d'articles économiques et financiers. L'objectif est de comprendre le processus d'entraînement d'un modèle Word2Vec et de comparer les relations sémantiques et analogiques obtenues avec un corpus spécifique. À travers ces deux étapes, nous développerons une compréhension pratique des embeddings de mots et de leur utilité dans des tâches de traitement du langage naturel.\n",
        "\n",
        "## Outils :\n",
        "* **Python**\n",
        "* **Gensim** pour Word2Vec\n",
        "* **NLTK** pour le corpus Reuters\n",
        "* **Matplotlib** pour les visualisations\n",
        "\n",
        "---"
      ],
      "metadata": {
        "id": "g8Un45zScVmR"
      }
    },
    {
      "cell_type": "markdown",
      "source": [
        "## **Partie 1 : Explorer un modèle Word2Vec pré-entraîné (Gensim)**\n",
        "Dans cette partie, nous allons utiliser un modèle Word2Vec déjà pré-entraîné pour explorer des similarités et des relations sémantiques entre les mots.\n",
        "\n",
        "**Étape 1** : Charger un modèle Word2Vec pré-entraîné\n",
        "Nous allons utiliser le modèle Google News Word2Vec, qui a été entraîné sur une vaste collection de textes issus de Google News (environ 100 milliards de mots)."
      ],
      "metadata": {
        "id": "REw05tq0cYIE"
      }
    },
    {
      "cell_type": "code",
      "source": [
        "import gensim.downloader as api\n",
        "\n",
        "# Charger le modèle pré-entraîné Google News Word2Vec\n",
        "model = api.load('word2vec-google-news-300')\n",
        "\n",
        "# Vérifier la taille du vocabulaire\n",
        "print(f\"Vocabulaire du modèle : {len(model.key_to_index)} mots\")\n"
      ],
      "metadata": {
        "colab": {
          "base_uri": "https://localhost:8080/"
        },
        "id": "0K2L7rqXbzIY",
        "outputId": "bc7457ef-316d-42f9-c775-cd28b013f4ff"
      },
      "execution_count": null,
      "outputs": [
        {
          "output_type": "stream",
          "name": "stdout",
          "text": [
            "[==================================================] 100.0% 1662.8/1662.8MB downloaded\n",
            "Vocabulaire du modèle : 3000000 mots\n"
          ]
        }
      ]
    },
    {
      "cell_type": "markdown",
      "source": [
        "**Étape 2** : Explorer des similarités entre les mots"
      ],
      "metadata": {
        "id": "WAifZcYBdzeW"
      }
    },
    {
      "cell_type": "code",
      "source": [
        "# Trouver les mots les plus similaires à \"king\"\n",
        "similar_words = model.most_similar('king')\n",
        "print(similar_words)\n"
      ],
      "metadata": {
        "colab": {
          "base_uri": "https://localhost:8080/"
        },
        "id": "fPslmC3Mb1hb",
        "outputId": "e59754dd-5d6c-40da-828a-f8322b7ff448"
      },
      "execution_count": null,
      "outputs": [
        {
          "output_type": "stream",
          "name": "stdout",
          "text": [
            "[('kings', 0.7138045430183411), ('queen', 0.6510956883430481), ('monarch', 0.6413194537162781), ('crown_prince', 0.6204220056533813), ('prince', 0.6159993410110474), ('sultan', 0.5864824056625366), ('ruler', 0.5797567367553711), ('princes', 0.5646552443504333), ('Prince_Paras', 0.5432944297790527), ('throne', 0.5422105193138123)]\n"
          ]
        }
      ]
    },
    {
      "cell_type": "code",
      "source": [
        "# Effectuer des analogies\n",
        "analogy = model.most_similar(positive=['woman', 'king'], negative=['man'])\n",
        "print(analogy)\n"
      ],
      "metadata": {
        "colab": {
          "base_uri": "https://localhost:8080/"
        },
        "id": "zMxdwgCjb1v7",
        "outputId": "f10c08ab-cbbb-4607-aae7-eaa2ce015f30"
      },
      "execution_count": null,
      "outputs": [
        {
          "output_type": "stream",
          "name": "stdout",
          "text": [
            "[('queen', 0.7118193507194519), ('monarch', 0.6189674139022827), ('princess', 0.5902431011199951), ('crown_prince', 0.5499460697174072), ('prince', 0.5377321839332581), ('kings', 0.5236844420433044), ('Queen_Consort', 0.5235945582389832), ('queens', 0.5181134343147278), ('sultan', 0.5098593831062317), ('monarchy', 0.5087411999702454)]\n"
          ]
        }
      ]
    },
    {
      "cell_type": "code",
      "source": [
        "analogy = model.most_similar(positive=['woman', 'doctor'], negative=['man'])\n",
        "print(analogy)"
      ],
      "metadata": {
        "colab": {
          "base_uri": "https://localhost:8080/"
        },
        "id": "Z1gSqBR6cBLs",
        "outputId": "c23c0a5f-7bcf-4826-f28e-93d34b76921f"
      },
      "execution_count": null,
      "outputs": [
        {
          "output_type": "stream",
          "name": "stdout",
          "text": [
            "[('gynecologist', 0.7093892097473145), ('nurse', 0.6477287411689758), ('doctors', 0.6471460461616516), ('physician', 0.6438996195793152), ('pediatrician', 0.6249487996101379), ('nurse_practitioner', 0.6218312978744507), ('obstetrician', 0.6072013974189758), ('ob_gyn', 0.5986713171005249), ('midwife', 0.5927063226699829), ('dermatologist', 0.5739566683769226)]\n"
          ]
        }
      ]
    },
    {
      "cell_type": "markdown",
      "source": [
        "**Étape 3** : Visualisation des embeddings"
      ],
      "metadata": {
        "id": "YG14ZrFPd8uf"
      }
    },
    {
      "cell_type": "code",
      "source": [
        "from sklearn.decomposition import PCA\n",
        "import matplotlib.pyplot as plt\n",
        "\n",
        "# Sélectionner des mots pour visualiser leurs embeddings\n",
        "words = ['king', 'queen', 'man', 'woman', 'paris', 'france', 'london', 'england']\n",
        "embeddings = [model[word] for word in words]\n",
        "\n",
        "# Réduction de dimension à 2D avec PCA\n",
        "pca = PCA(n_components=2)\n",
        "result = pca.fit_transform(embeddings)\n",
        "\n",
        "# Visualisation des points\n",
        "plt.scatter(result[:, 0], result[:, 1])\n",
        "for i, word in enumerate(words):\n",
        "    plt.annotate(word, xy=(result[i, 0], result[i, 1]))\n",
        "plt.show()\n"
      ],
      "metadata": {
        "colab": {
          "base_uri": "https://localhost:8080/",
          "height": 430
        },
        "id": "N7YroeIlcTLl",
        "outputId": "5f572b3c-211a-4b09-9318-10e9cec3864c"
      },
      "execution_count": null,
      "outputs": [
        {
          "output_type": "display_data",
          "data": {
            "text/plain": [
              "<Figure size 640x480 with 1 Axes>"
            ],
            "image/png": "[encoded data removed]"
          },
          "metadata": {}
        }
      ]
    },
    {
      "cell_type": "markdown",
      "source": [
        "## **Partie 2 : Entraîner un modèle Word2Vec sur le corpus Reuters**\n",
        "\n",
        "Dans cette partie, vous allez entraîner votre propre modèle Word2Vec en utilisant le corpus Reuters disponible dans NLTK.\n",
        "\n",
        "**Étape 1** : Chargemer des données.\n"
      ],
      "metadata": {
        "id": "p__l3LzJebjO"
      }
    },
    {
      "cell_type": "code",
      "source": [
        "import nltk\n",
        "from nltk.corpus import reuters\n",
        "\n",
        "# Télécharger et charger le corpus\n",
        "nltk.download('reuters')\n",
        "\n",
        "# Exemple de texte du corpus\n",
        "corpus = [reuters.raw(fileid) for fileid in reuters.fileids()]\n"
      ],
      "metadata": {
        "colab": {
          "base_uri": "https://localhost:8080/"
        },
        "id": "06W2nJVlYYcY",
        "outputId": "31cb7f30-ca81-4af1-d969-f715e26e7d86"
      },
      "execution_count": null,
      "outputs": [
        {
          "output_type": "stream",
          "name": "stderr",
          "text": [
            "[nltk_data] Downloading package reuters to /root/nltk_data...\n",
            "[nltk_data]   Package reuters is already up-to-date!\n",
            "[nltk_data] Downloading package punkt to /root/nltk_data...\n",
            "[nltk_data]   Package punkt is already up-to-date!\n"
          ]
        }
      ]
    },
    {
      "cell_type": "markdown",
      "source": [
        "## Etape 2 : Prétraiter les données."
      ],
      "metadata": {
        "id": "8E3T4EMzfO97"
      }
    },
    {
      "cell_type": "code",
      "source": [
        "from nltk.tokenize import word_tokenize\n",
        "from nltk.corpus import stopwords\n",
        "\n",
        "nltk.download('punkt')\n",
        "nltk.download('stopwords')\n",
        "stop_words = set(stopwords.words('english'))\n",
        "\n",
        "# Prétraitement des documents\n",
        "def preprocess_text(text):\n",
        "    tokens = word_tokenize(text.lower())\n",
        "    tokens = [word for word in tokens if word.isalpha() and word not in stop_words]\n",
        "    return tokens\n",
        "\n",
        "processed_corpus = [preprocess_text(text) for text in corpus]\n",
        "\n",
        "# Compter le nombre total de tokens dans tout le corpus\n",
        "total_tokens = sum(len(tokens) for tokens in processed_corpus)\n",
        "\n",
        "# Afficher le nombre total de tokens\n",
        "print(f\"Nombre total de tokens dans le corpus Reuters : {total_tokens}\")"
      ],
      "metadata": {
        "colab": {
          "base_uri": "https://localhost:8080/"
        },
        "id": "lyQmlVHaYaBH",
        "outputId": "d4e6d2be-ab60-4a53-c4e6-5e7eb4db450b"
      },
      "execution_count": null,
      "outputs": [
        {
          "output_type": "stream",
          "name": "stderr",
          "text": [
            "[nltk_data] Downloading package punkt to /root/nltk_data...\n",
            "[nltk_data]   Package punkt is already up-to-date!\n",
            "[nltk_data] Downloading package stopwords to /root/nltk_data...\n",
            "[nltk_data]   Package stopwords is already up-to-date!\n"
          ]
        },
        {
          "output_type": "stream",
          "name": "stdout",
          "text": [
            "Nombre total de tokens dans le corpus Reuters : 838833\n"
          ]
        }
      ]
    },
    {
      "cell_type": "markdown",
      "source": [
        "**Etape 3** : Entraîner un modèle Word2Vec."
      ],
      "metadata": {
        "id": "wcpJXbPnfba2"
      }
    },
    {
      "cell_type": "code",
      "source": [
        "from gensim.models import Word2Vec\n",
        "\n",
        "# Entraînement du modèle Word2Vec\n",
        "model = Word2Vec(processed_corpus, vector_size=100, window=5, min_count=5, sg=0)"
      ],
      "metadata": {
        "id": "zNmwGUuJYgLI"
      },
      "execution_count": null,
      "outputs": []
    },
    {
      "cell_type": "markdown",
      "source": [
        "**Etape 4** : Trouver des analygies sémantiques."
      ],
      "metadata": {
        "id": "7rdyKw8nfkDd"
      }
    },
    {
      "cell_type": "code",
      "source": [
        "similar_words = model.wv.most_similar('oil')\n",
        "print(similar_words)"
      ],
      "metadata": {
        "colab": {
          "base_uri": "https://localhost:8080/"
        },
        "id": "czCkx-OIZem4",
        "outputId": "21f56cc8-f964-4054-9f53-99eff45890d8"
      },
      "execution_count": null,
      "outputs": [
        {
          "output_type": "stream",
          "name": "stdout",
          "text": [
            "[('kernel', 0.6914666295051575), ('natural', 0.6843040585517883), ('gasoline', 0.6841670274734497), ('deodorised', 0.6819249391555786), ('light', 0.6632283329963684), ('crude', 0.6393625140190125), ('condensate', 0.6270737051963806), ('throughput', 0.6247256398200989), ('fuel', 0.623727023601532), ('olein', 0.621740996837616)]\n"
          ]
        }
      ]
    }
  ]
}